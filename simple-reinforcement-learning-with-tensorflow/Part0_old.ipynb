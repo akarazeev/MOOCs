{
 "cells": [
  {
   "cell_type": "markdown",
   "metadata": {},
   "source": [
    "Two tricks to improve perfomance of Network:\n",
    "    - Experience Replay\n",
    "    - Freezing Target Networks\n",
    "    \n",
    "Great post on theory behind Q-Learning: http://neuro.cs.ut.ee/demystifying-deep-reinforcement-learning/"
   ]
  },
  {
   "cell_type": "markdown",
   "metadata": {},
   "source": [
    "# Q-Table Learning"
   ]
  },
  {
   "cell_type": "code",
   "execution_count": 2,
   "metadata": {
    "collapsed": false
   },
   "outputs": [
    {
     "name": "stderr",
     "output_type": "stream",
     "text": [
      "[2017-02-24 23:00:08,781] Making new env: FrozenLake-v0\n"
     ]
    }
   ],
   "source": [
    "import gym\n",
    "import numpy as np\n",
    "import random\n",
    "import matplotlib.pyplot as plt\n",
    "import math\n",
    "%matplotlib inline"
   ]
  },
  {
   "cell_type": "code",
   "execution_count": 5,
   "metadata": {
    "collapsed": false,
    "scrolled": true
   },
   "outputs": [
    {
     "name": "stdout",
     "output_type": "stream",
     "text": [
      "Average score: 0.521\n"
     ]
    }
   ],
   "source": [
    "env = gym.make('FrozenLake-v0')\n",
    "\n",
    "q_table = np.zeros((env.observation_space.n, env.action_space.n))\n",
    "env.action_space.n, env.observation_space.n\n",
    "\n",
    "learning_rate = 0.85\n",
    "discount_factor = 0.99\n",
    "\n",
    "NUM_EPISODES = 2000\n",
    "MAX_T = 99\n",
    "DEBUG = False\n",
    "\n",
    "reward_list = []\n",
    "\n",
    "\n",
    "def select_action(env, state, episode):\n",
    "    # Стохастическая среда\n",
    "    action = np.argmax(q_table[state] + np.random.randn(1, \\\n",
    "                                        env.action_space.n)*(1/(episode+1)))\n",
    "    return action\n",
    "\n",
    "\n",
    "for episode in range(NUM_EPISODES):\n",
    "    state_0 = env.reset()\n",
    "    reward_all = 0\n",
    "    t = 0\n",
    "    while t < MAX_T:\n",
    "        t += 1\n",
    "\n",
    "        action = select_action(env, state_0, episode)\n",
    "        state, reward, done, _ = env.step(action)\n",
    "        \n",
    "        best_q = np.max(q_table[state])\n",
    "        q_table[state_0, action] += learning_rate * (reward + discount_factor*best_q\\\n",
    "                                                      - q_table[state_0, action])\n",
    "        reward_all += reward\n",
    "        state_0 = state\n",
    "        \n",
    "        if done:\n",
    "            if DEBUG:\n",
    "                print(\"Episode {} finished after {} timesteps\".format(episode, t))\n",
    "            break\n",
    "            \n",
    "    reward_list.append(reward_all)\n",
    "\n",
    "print(\"Average score: {}\".format(sum(reward_list)/NUM_EPISODES))\n",
    "env.close()"
   ]
  },
  {
   "cell_type": "markdown",
   "metadata": {},
   "source": [
    "# Q-Learning with NN"
   ]
  },
  {
   "cell_type": "code",
   "execution_count": 6,
   "metadata": {
    "collapsed": true
   },
   "outputs": [],
   "source": [
    "import tensorflow as tf"
   ]
  },
  {
   "cell_type": "code",
   "execution_count": 67,
   "metadata": {
    "collapsed": false
   },
   "outputs": [
    {
     "name": "stderr",
     "output_type": "stream",
     "text": [
      "[2017-02-24 23:53:54,347] Making new env: FrozenLake-v0\n"
     ]
    },
    {
     "name": "stdout",
     "output_type": "stream",
     "text": [
      "Average score: 0.34\n"
     ]
    }
   ],
   "source": [
    "tf.reset_default_graph()\n",
    "inputs1 = tf.placeholder(shape=[1,16], dtype=tf.float32)\n",
    "W = tf.Variable(tf.random_uniform([16,4], 0, 0.01))\n",
    "q_out = tf.matmul(inputs1, W)\n",
    "predict = tf.argmax(q_out, 1)\n",
    "\n",
    "next_q = tf.placeholder(shape=[1,4], dtype=tf.float32)\n",
    "loss = tf.reduce_sum(tf.square(next_q - q_out))\n",
    "trainer = tf.train.GradientDescentOptimizer(learning_rate=0.1)\n",
    "update_model = trainer.minimize(loss)\n",
    "\n",
    "env = gym.make('FrozenLake-v0')\n",
    "\n",
    "init = tf.initialize_all_variables()\n",
    "\n",
    "discount_factor = 0.99\n",
    "exploration_rate = 0.1\n",
    "NUM_EPISODES = 2000\n",
    "MAX_T = 99\n",
    "DEBUG = False\n",
    "\n",
    "step_list = []\n",
    "reward_list = []\n",
    "with tf.Session() as sess:\n",
    "    sess.run(init)\n",
    "    for episode in range(NUM_EPISODES):\n",
    "        state_0 = env.reset()\n",
    "        reward_all = 0\n",
    "        t = 0\n",
    "        while t < MAX_T:\n",
    "            t += 1\n",
    "            action, target_q = sess.run([predict, q_out], feed_dict\\\n",
    "                                     ={inputs1:np.identity(16)[state_0:state_0+1]})\n",
    "            if np.random.rand(1) < exploration_rate:\n",
    "                action[0] = env.action_space.sample()\n",
    "            \n",
    "            state, reward, done, _ = env.step(action[0])\n",
    "            \n",
    "            q1 = sess.run(q_out, feed_dict={inputs1:np.identity(16)[state:state+1]})\n",
    "            max_q1 = np.max(q1)\n",
    "            \n",
    "            target_q[0, action[0]] = reward + discount_factor * max_q1\n",
    "            \n",
    "            _, W1 = sess.run([update_model, W], feed_dict={inputs1:np.identity(16)[state_0\\\n",
    "                                                           :state_0+1], next_q:target_q})\n",
    "            reward_all += reward\n",
    "            state_0 = state\n",
    "            \n",
    "            if done:\n",
    "                if DEBUG:\n",
    "                    print(\"Episode {} finished after {} timesteps\".format(episode, t))\n",
    "                break\n",
    "                \n",
    "        step_list.append(t)\n",
    "        reward_list.append(reward_all)\n",
    "        \n",
    "print(\"Average score: {}\".format(sum(reward_list)/NUM_EPISODES))\n",
    "env.close()"
   ]
  },
  {
   "cell_type": "code",
   "execution_count": 68,
   "metadata": {
    "collapsed": false,
    "scrolled": false
   },
   "outputs": [
    {
     "data": {
      "text/plain": [
       "[<matplotlib.lines.Line2D at 0x1165718d0>]"
      ]
     },
     "execution_count": 68,
     "metadata": {},
     "output_type": "execute_result"
    },
    {
     "data": {
      "image/png": "[encoded data removed]",
      "text/plain": [
       "<matplotlib.figure.Figure at 0x118df0da0>"
      ]
     },
     "metadata": {},
     "output_type": "display_data"
    }
   ],
   "source": [
    "plt.plot(reward_list)"
   ]
  },
  {
   "cell_type": "code",
   "execution_count": 69,
   "metadata": {
    "collapsed": false
   },
   "outputs": [
    {
     "data": {
      "text/plain": [
       "[<matplotlib.lines.Line2D at 0x1152ac358>]"
      ]
     },
     "execution_count": 69,
     "metadata": {},
     "output_type": "execute_result"
    },
    {
     "data": {
      "image/png": "[encoded data removed]",
      "text/plain": [
       "<matplotlib.figure.Figure at 0x1166470f0>"
      ]
     },
     "metadata": {},
     "output_type": "display_data"
    }
   ],
   "source": [
    "plt.plot(step_list)"
   ]
  },
  {
   "cell_type": "code",
   "execution_count": null,
   "metadata": {
    "collapsed": true
   },
   "outputs": [],
   "source": []
  }
 ],
 "metadata": {
  "kernelspec": {
   "display_name": "Python 3",
   "language": "python",
   "name": "python3"
  },
  "language_info": {
   "codemirror_mode": {
    "name": "ipython",
    "version": 3
   },
   "file_extension": ".py",
   "mimetype": "text/x-python",
   "name": "python",
   "nbconvert_exporter": "python",
   "pygments_lexer": "ipython3",
   "version": "3.5.2"
  }
 },
 "nbformat": 4,
 "nbformat_minor": 0
}
