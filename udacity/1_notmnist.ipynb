{
 "cells": [
  {
   "cell_type": "markdown",
   "metadata": {
    "colab_type": "text",
    "id": "5hIbr52I7Z7U"
   },
   "source": [
    "Deep Learning\n",
    "=============\n",
    "\n",
    "Assignment 1\n",
    "------------\n",
    "\n",
    "The objective of this assignment is to learn about simple data curation practices, and familiarize you with some of the data we'll be reusing later.\n",
    "\n",
    "This notebook uses the [notMNIST](http://yaroslavvb.blogspot.com/2011/09/notmnist-dataset.html) dataset to be used with python experiments. This dataset is designed to look like the classic [MNIST](http://yann.lecun.com/exdb/mnist/) dataset, while looking a little more like real data: it's a harder task, and the data is a lot less 'clean' than MNIST."
   ]
  },
  {
   "cell_type": "code",
   "execution_count": 1,
   "metadata": {
    "cellView": "both",
    "colab": {
     "autoexec": {
      "startup": false,
      "wait_interval": 0
     }
    },
    "colab_type": "code",
    "collapsed": false,
    "id": "apJbCsBHl-2A"
   },
   "outputs": [],
   "source": [
    "# These are all the modules we'll be using later. Make sure you can import them\n",
    "# before proceeding further.\n",
    "from __future__ import print_function\n",
    "import matplotlib.pyplot as plt\n",
    "import numpy as np\n",
    "import os\n",
    "import sys\n",
    "import tarfile\n",
    "from IPython.display import display, Image\n",
    "from scipy import ndimage\n",
    "from sklearn.linear_model import LogisticRegression\n",
    "from six.moves.urllib.request import urlretrieve\n",
    "from six.moves import cPickle as pickle\n",
    "\n",
    "# Config the matplotlib backend as plotting inline in IPython\n",
    "%matplotlib inline"
   ]
  },
  {
   "cell_type": "markdown",
   "metadata": {
    "colab_type": "text",
    "id": "jNWGtZaXn-5j"
   },
   "source": [
    "First, we'll download the dataset to our local machine. The data consists of characters rendered in a variety of fonts on a 28x28 image. The labels are limited to 'A' through 'J' (10 classes). The training set has about 500k and the testset 19000 labelled examples. Given these sizes, it should be possible to train models quickly on any machine."
   ]
  },
  {
   "cell_type": "code",
   "execution_count": 2,
   "metadata": {
    "cellView": "both",
    "colab": {
     "autoexec": {
      "startup": false,
      "wait_interval": 0
     },
     "output_extras": [
      {
       "item_id": 1
      }
     ]
    },
    "colab_type": "code",
    "collapsed": false,
    "executionInfo": {
     "elapsed": 186058,
     "status": "ok",
     "timestamp": 1444485672507,
     "user": {
      "color": "#1FA15D",
      "displayName": "Vincent Vanhoucke",
      "isAnonymous": false,
      "isMe": true,
      "permissionId": "05076109866853157986",
      "photoUrl": "//lh6.googleusercontent.com/-cCJa7dTDcgQ/AAAAAAAAAAI/AAAAAAAACgw/r2EZ_8oYer4/s50-c-k-no/photo.jpg",
      "sessionId": "2a0a5e044bb03b66",
      "userId": "102167687554210253930"
     },
     "user_tz": 420
    },
    "id": "EYRJ4ICW6-da",
    "outputId": "0d0f85df-155f-4a89-8e7e-ee32df36ec8d"
   },
   "outputs": [
    {
     "name": "stdout",
     "output_type": "stream",
     "text": [
      "Found and verified ./notMNIST_large.tar.gz\n",
      "Found and verified ./notMNIST_small.tar.gz\n"
     ]
    }
   ],
   "source": [
    "url = 'http://commondatastorage.googleapis.com/books1000/'\n",
    "last_percent_reported = None\n",
    "data_root = '.' # Change me to store data elsewhere\n",
    "\n",
    "def download_progress_hook(count, blockSize, totalSize):\n",
    "  \"\"\"A hook to report the progress of a download. This is mostly intended for users with\n",
    "  slow internet connections. Reports every 5% change in download progress.\n",
    "  \"\"\"\n",
    "  global last_percent_reported\n",
    "  percent = int(count * blockSize * 100 / totalSize)\n",
    "\n",
    "  if last_percent_reported != percent:\n",
    "    if percent % 5 == 0:\n",
    "      sys.stdout.write(\"%s%%\" % percent)\n",
    "      sys.stdout.flush()\n",
    "    else:\n",
    "      sys.stdout.write(\".\")\n",
    "      sys.stdout.flush()\n",
    "      \n",
    "    last_percent_reported = percent\n",
    "        \n",
    "def maybe_download(filename, expected_bytes, force=False):\n",
    "  \"\"\"Download a file if not present, and make sure it's the right size.\"\"\"\n",
    "  dest_filename = os.path.join(data_root, filename)\n",
    "  if force or not os.path.exists(dest_filename):\n",
    "    print('Attempting to download:', filename) \n",
    "    filename, _ = urlretrieve(url + filename, dest_filename, reporthook=download_progress_hook)\n",
    "    print('\\nDownload Complete!')\n",
    "  statinfo = os.stat(dest_filename)\n",
    "  if statinfo.st_size == expected_bytes:\n",
    "    print('Found and verified', dest_filename)\n",
    "  else:\n",
    "    raise Exception(\n",
    "      'Failed to verify ' + dest_filename + '. Can you get to it with a browser?')\n",
    "  return dest_filename\n",
    "\n",
    "train_filename = maybe_download('notMNIST_large.tar.gz', 247336696)\n",
    "test_filename = maybe_download('notMNIST_small.tar.gz', 8458043)"
   ]
  },
  {
   "cell_type": "markdown",
   "metadata": {
    "colab_type": "text",
    "id": "cC3p0oEyF8QT"
   },
   "source": [
    "Extract the dataset from the compressed .tar.gz file.\n",
    "This should give you a set of directories, labelled A through J."
   ]
  },
  {
   "cell_type": "code",
   "execution_count": 3,
   "metadata": {
    "cellView": "both",
    "colab": {
     "autoexec": {
      "startup": false,
      "wait_interval": 0
     },
     "output_extras": [
      {
       "item_id": 1
      }
     ]
    },
    "colab_type": "code",
    "collapsed": false,
    "executionInfo": {
     "elapsed": 186055,
     "status": "ok",
     "timestamp": 1444485672525,
     "user": {
      "color": "#1FA15D",
      "displayName": "Vincent Vanhoucke",
      "isAnonymous": false,
      "isMe": true,
      "permissionId": "05076109866853157986",
      "photoUrl": "//lh6.googleusercontent.com/-cCJa7dTDcgQ/AAAAAAAAAAI/AAAAAAAACgw/r2EZ_8oYer4/s50-c-k-no/photo.jpg",
      "sessionId": "2a0a5e044bb03b66",
      "userId": "102167687554210253930"
     },
     "user_tz": 420
    },
    "id": "H8CBE-WZ8nmj",
    "outputId": "ef6c790c-2513-4b09-962e-27c79390c762"
   },
   "outputs": [
    {
     "name": "stdout",
     "output_type": "stream",
     "text": [
      "./notMNIST_large already present - Skipping extraction of ./notMNIST_large.tar.gz.\n",
      "['./notMNIST_large/A', './notMNIST_large/B', './notMNIST_large/C', './notMNIST_large/D', './notMNIST_large/E', './notMNIST_large/F', './notMNIST_large/G', './notMNIST_large/H', './notMNIST_large/I', './notMNIST_large/J']\n",
      "./notMNIST_small already present - Skipping extraction of ./notMNIST_small.tar.gz.\n",
      "['./notMNIST_small/A', './notMNIST_small/B', './notMNIST_small/C', './notMNIST_small/D', './notMNIST_small/E', './notMNIST_small/F', './notMNIST_small/G', './notMNIST_small/H', './notMNIST_small/I', './notMNIST_small/J']\n"
     ]
    }
   ],
   "source": [
    "num_classes = 10\n",
    "np.random.seed(133)\n",
    "\n",
    "def maybe_extract(filename, force=False):\n",
    "  root = os.path.splitext(os.path.splitext(filename)[0])[0]  # remove .tar.gz\n",
    "  if os.path.isdir(root) and not force:\n",
    "    # You may override by setting force=True.\n",
    "    print('%s already present - Skipping extraction of %s.' % (root, filename))\n",
    "  else:\n",
    "    print('Extracting data for %s. This may take a while. Please wait.' % root)\n",
    "    tar = tarfile.open(filename)\n",
    "    sys.stdout.flush()\n",
    "    tar.extractall(data_root)\n",
    "    tar.close()\n",
    "  data_folders = [\n",
    "    os.path.join(root, d) for d in sorted(os.listdir(root))\n",
    "    if os.path.isdir(os.path.join(root, d))]\n",
    "  if len(data_folders) != num_classes:\n",
    "    raise Exception(\n",
    "      'Expected %d folders, one per class. Found %d instead.' % (\n",
    "        num_classes, len(data_folders)))\n",
    "  print(data_folders)\n",
    "  return data_folders\n",
    "  \n",
    "train_folders = maybe_extract(train_filename)\n",
    "test_folders = maybe_extract(test_filename)"
   ]
  },
  {
   "cell_type": "markdown",
   "metadata": {
    "colab_type": "text",
    "id": "4riXK3IoHgx6"
   },
   "source": [
    "---\n",
    "Problem 1\n",
    "---------\n",
    "\n",
    "Let's take a peek at some of the data to make sure it looks sensible. Each exemplar should be an image of a character A through J rendered in a different font. Display a sample of the images that we just downloaded. Hint: you can use the package IPython.display.\n",
    "\n",
    "---"
   ]
  },
  {
   "cell_type": "code",
   "execution_count": 13,
   "metadata": {
    "collapsed": false
   },
   "outputs": [
    {
     "data": {
      "image/png": "[encoded data removed]",
      "text/plain": [
       "<IPython.core.display.Image object>"
      ]
     },
     "metadata": {},
     "output_type": "display_data"
    },
    {
     "data": {
      "image/png": "[encoded data removed]",
      "text/plain": [
       "<IPython.core.display.Image object>"
      ]
     },
     "metadata": {},
     "output_type": "display_data"
    },
    {
     "data": {
      "image/png": "[encoded data removed]",
      "text/plain": [
       "<IPython.core.display.Image object>"
      ]
     },
     "metadata": {},
     "output_type": "display_data"
    },
    {
     "data": {
      "image/png": "[encoded data removed]",
      "text/plain": [
       "<IPython.core.display.Image object>"
      ]
     },
     "metadata": {},
     "output_type": "display_data"
    },
    {
     "data": {
      "image/png": "[encoded data removed]",
      "text/plain": [
       "<IPython.core.display.Image object>"
      ]
     },
     "metadata": {},
     "output_type": "display_data"
    },
    {
     "data": {
      "image/png": "[encoded data removed]",
      "text/plain": [
       "<IPython.core.display.Image object>"
      ]
     },
     "metadata": {},
     "output_type": "display_data"
    },
    {
     "data": {
      "image/png": "[encoded data removed]",
      "text/plain": [
       "<IPython.core.display.Image object>"
      ]
     },
     "metadata": {},
     "output_type": "display_data"
    },
    {
     "data": {
      "image/png": "[encoded data removed]",
      "text/plain": [
       "<IPython.core.display.Image object>"
      ]
     },
     "metadata": {},
     "output_type": "display_data"
    },
    {
     "data": {
      "image/png": "[encoded data removed]",
      "text/plain": [
       "<IPython.core.display.Image object>"
      ]
     },
     "metadata": {},
     "output_type": "display_data"
    },
    {
     "data": {
      "image/png": "[encoded data removed]",
      "text/plain": [
       "<IPython.core.display.Image object>"
      ]
     },
     "metadata": {},
     "output_type": "display_data"
    }
   ],
   "source": [
    "for folder in test_folders:\n",
    "    display(Image(os.path.join(folder,os.listdir(folder)[0])))"
   ]
  },
  {
   "cell_type": "markdown",
   "metadata": {
    "colab_type": "text",
    "id": "PBdkjESPK8tw"
   },
   "source": [
    "Now let's load the data in a more manageable format. Since, depending on your computer setup you might not be able to fit it all in memory, we'll load each class into a separate dataset, store them on disk and curate them independently. Later we'll merge them into a single dataset of manageable size.\n",
    "\n",
    "We'll convert the entire dataset into a 3D array (image index, x, y) of floating point values, normalized to have approximately zero mean and standard deviation ~0.5 to make training easier down the road. \n",
    "\n",
    "A few images might not be readable, we'll just skip them."
   ]
  },
  {
   "cell_type": "code",
   "execution_count": 14,
   "metadata": {
    "cellView": "both",
    "colab": {
     "autoexec": {
      "startup": false,
      "wait_interval": 0
     },
     "output_extras": [
      {
       "item_id": 30
      }
     ]
    },
    "colab_type": "code",
    "collapsed": false,
    "executionInfo": {
     "elapsed": 399874,
     "status": "ok",
     "timestamp": 1444485886378,
     "user": {
      "color": "#1FA15D",
      "displayName": "Vincent Vanhoucke",
      "isAnonymous": false,
      "isMe": true,
      "permissionId": "05076109866853157986",
      "photoUrl": "//lh6.googleusercontent.com/-cCJa7dTDcgQ/AAAAAAAAAAI/AAAAAAAACgw/r2EZ_8oYer4/s50-c-k-no/photo.jpg",
      "sessionId": "2a0a5e044bb03b66",
      "userId": "102167687554210253930"
     },
     "user_tz": 420
    },
    "id": "h7q0XhG3MJdf",
    "outputId": "92c391bb-86ff-431d-9ada-315568a19e59"
   },
   "outputs": [
    {
     "name": "stdout",
     "output_type": "stream",
     "text": [
      "Pickling ./notMNIST_large/A.pickle.\n",
      "./notMNIST_large/A\n",
      "Could not read: ./notMNIST_large/A/RnJlaWdodERpc3BCb29rSXRhbGljLnR0Zg==.png : cannot identify image file './notMNIST_large/A/RnJlaWdodERpc3BCb29rSXRhbGljLnR0Zg==.png' - it's ok, skipping.\n",
      "Could not read: ./notMNIST_large/A/SG90IE11c3RhcmQgQlROIFBvc3Rlci50dGY=.png : cannot identify image file './notMNIST_large/A/SG90IE11c3RhcmQgQlROIFBvc3Rlci50dGY=.png' - it's ok, skipping.\n",
      "Could not read: ./notMNIST_large/A/Um9tYW5hIEJvbGQucGZi.png : cannot identify image file './notMNIST_large/A/Um9tYW5hIEJvbGQucGZi.png' - it's ok, skipping.\n",
      "Full dataset tensor: (52909, 28, 28)\n",
      "Mean: -0.12825\n",
      "Standard deviation: 0.443121\n",
      "Pickling ./notMNIST_large/B.pickle.\n",
      "./notMNIST_large/B\n",
      "Could not read: ./notMNIST_large/B/TmlraXNFRi1TZW1pQm9sZEl0YWxpYy5vdGY=.png : cannot identify image file './notMNIST_large/B/TmlraXNFRi1TZW1pQm9sZEl0YWxpYy5vdGY=.png' - it's ok, skipping.\n",
      "Full dataset tensor: (52911, 28, 28)\n",
      "Mean: -0.00756303\n",
      "Standard deviation: 0.454491\n",
      "Pickling ./notMNIST_large/C.pickle.\n",
      "./notMNIST_large/C\n",
      "Full dataset tensor: (52912, 28, 28)\n",
      "Mean: -0.142258\n",
      "Standard deviation: 0.439806\n",
      "Pickling ./notMNIST_large/D.pickle.\n",
      "./notMNIST_large/D\n",
      "Could not read: ./notMNIST_large/D/VHJhbnNpdCBCb2xkLnR0Zg==.png : cannot identify image file './notMNIST_large/D/VHJhbnNpdCBCb2xkLnR0Zg==.png' - it's ok, skipping.\n",
      "Full dataset tensor: (52911, 28, 28)\n",
      "Mean: -0.0573678\n",
      "Standard deviation: 0.455648\n",
      "Pickling ./notMNIST_large/E.pickle.\n",
      "./notMNIST_large/E\n",
      "Full dataset tensor: (52912, 28, 28)\n",
      "Mean: -0.069899\n",
      "Standard deviation: 0.452942\n",
      "Pickling ./notMNIST_large/F.pickle.\n",
      "./notMNIST_large/F\n",
      "Full dataset tensor: (52912, 28, 28)\n",
      "Mean: -0.125583\n",
      "Standard deviation: 0.44709\n",
      "Pickling ./notMNIST_large/G.pickle.\n",
      "./notMNIST_large/G\n",
      "Full dataset tensor: (52912, 28, 28)\n",
      "Mean: -0.0945814\n",
      "Standard deviation: 0.44624\n",
      "Pickling ./notMNIST_large/H.pickle.\n",
      "./notMNIST_large/H\n",
      "Full dataset tensor: (52912, 28, 28)\n",
      "Mean: -0.0685221\n",
      "Standard deviation: 0.454232\n",
      "Pickling ./notMNIST_large/I.pickle.\n",
      "./notMNIST_large/I\n",
      "Full dataset tensor: (52912, 28, 28)\n",
      "Mean: 0.0307862\n",
      "Standard deviation: 0.468899\n",
      "Pickling ./notMNIST_large/J.pickle.\n",
      "./notMNIST_large/J\n",
      "Full dataset tensor: (52911, 28, 28)\n",
      "Mean: -0.153358\n",
      "Standard deviation: 0.443656\n",
      "Pickling ./notMNIST_small/A.pickle.\n",
      "./notMNIST_small/A\n",
      "Could not read: ./notMNIST_small/A/RGVtb2NyYXRpY2FCb2xkT2xkc3R5bGUgQm9sZC50dGY=.png : cannot identify image file './notMNIST_small/A/RGVtb2NyYXRpY2FCb2xkT2xkc3R5bGUgQm9sZC50dGY=.png' - it's ok, skipping.\n",
      "Full dataset tensor: (1872, 28, 28)\n",
      "Mean: -0.132626\n",
      "Standard deviation: 0.445128\n",
      "Pickling ./notMNIST_small/B.pickle.\n",
      "./notMNIST_small/B\n",
      "Full dataset tensor: (1873, 28, 28)\n",
      "Mean: 0.00535609\n",
      "Standard deviation: 0.457115\n",
      "Pickling ./notMNIST_small/C.pickle.\n",
      "./notMNIST_small/C\n",
      "Full dataset tensor: (1873, 28, 28)\n",
      "Mean: -0.141521\n",
      "Standard deviation: 0.44269\n",
      "Pickling ./notMNIST_small/D.pickle.\n",
      "./notMNIST_small/D\n",
      "Full dataset tensor: (1873, 28, 28)\n",
      "Mean: -0.0492167\n",
      "Standard deviation: 0.459759\n",
      "Pickling ./notMNIST_small/E.pickle.\n",
      "./notMNIST_small/E\n",
      "Full dataset tensor: (1873, 28, 28)\n",
      "Mean: -0.0599148\n",
      "Standard deviation: 0.45735\n",
      "Pickling ./notMNIST_small/F.pickle.\n",
      "./notMNIST_small/F\n",
      "Could not read: ./notMNIST_small/F/Q3Jvc3NvdmVyIEJvbGRPYmxpcXVlLnR0Zg==.png : cannot identify image file './notMNIST_small/F/Q3Jvc3NvdmVyIEJvbGRPYmxpcXVlLnR0Zg==.png' - it's ok, skipping.\n",
      "Full dataset tensor: (1872, 28, 28)\n",
      "Mean: -0.118185\n",
      "Standard deviation: 0.452279\n",
      "Pickling ./notMNIST_small/G.pickle.\n",
      "./notMNIST_small/G\n",
      "Full dataset tensor: (1872, 28, 28)\n",
      "Mean: -0.0925503\n",
      "Standard deviation: 0.449006\n",
      "Pickling ./notMNIST_small/H.pickle.\n",
      "./notMNIST_small/H\n",
      "Full dataset tensor: (1872, 28, 28)\n",
      "Mean: -0.0586893\n",
      "Standard deviation: 0.458759\n",
      "Pickling ./notMNIST_small/I.pickle.\n",
      "./notMNIST_small/I\n",
      "Full dataset tensor: (1872, 28, 28)\n",
      "Mean: 0.0526451\n",
      "Standard deviation: 0.471894\n",
      "Pickling ./notMNIST_small/J.pickle.\n",
      "./notMNIST_small/J\n",
      "Full dataset tensor: (1872, 28, 28)\n",
      "Mean: -0.151689\n",
      "Standard deviation: 0.448014\n"
     ]
    }
   ],
   "source": [
    "image_size = 28  # Pixel width and height.\n",
    "pixel_depth = 255.0  # Number of levels per pixel.\n",
    "\n",
    "def load_letter(folder, min_num_images):\n",
    "  \"\"\"Load the data for a single letter label.\"\"\"\n",
    "  image_files = os.listdir(folder)\n",
    "  dataset = np.ndarray(shape=(len(image_files), image_size, image_size),\n",
    "                         dtype=np.float32)\n",
    "  print(folder)\n",
    "  num_images = 0\n",
    "  for image in image_files:\n",
    "    image_file = os.path.join(folder, image)\n",
    "    try:\n",
    "      image_data = (ndimage.imread(image_file).astype(float) - \n",
    "                    pixel_depth / 2) / pixel_depth\n",
    "      if image_data.shape != (image_size, image_size):\n",
    "        raise Exception('Unexpected image shape: %s' % str(image_data.shape))\n",
    "      dataset[num_images, :, :] = image_data\n",
    "      num_images = num_images + 1\n",
    "    except IOError as e:\n",
    "      print('Could not read:', image_file, ':', e, '- it\\'s ok, skipping.')\n",
    "    \n",
    "  dataset = dataset[0:num_images, :, :]\n",
    "  if num_images < min_num_images:\n",
    "    raise Exception('Many fewer images than expected: %d < %d' %\n",
    "                    (num_images, min_num_images))\n",
    "    \n",
    "  print('Full dataset tensor:', dataset.shape)\n",
    "  print('Mean:', np.mean(dataset))\n",
    "  print('Standard deviation:', np.std(dataset))\n",
    "  return dataset\n",
    "        \n",
    "def maybe_pickle(data_folders, min_num_images_per_class, force=False):\n",
    "  dataset_names = []\n",
    "  for folder in data_folders:\n",
    "    set_filename = folder + '.pickle'\n",
    "    dataset_names.append(set_filename)\n",
    "    if os.path.exists(set_filename) and not force:\n",
    "      # You may override by setting force=True.\n",
    "      print('%s already present - Skipping pickling.' % set_filename)\n",
    "    else:\n",
    "      print('Pickling %s.' % set_filename)\n",
    "      dataset = load_letter(folder, min_num_images_per_class)\n",
    "      try:\n",
    "        with open(set_filename, 'wb') as f:\n",
    "          pickle.dump(dataset, f, pickle.HIGHEST_PROTOCOL)\n",
    "      except Exception as e:\n",
    "        print('Unable to save data to', set_filename, ':', e)\n",
    "  \n",
    "  return dataset_names\n",
    "\n",
    "train_datasets = maybe_pickle(train_folders, 45000)\n",
    "test_datasets = maybe_pickle(test_folders, 1800)"
   ]
  },
  {
   "cell_type": "markdown",
   "metadata": {
    "colab_type": "text",
    "id": "vUdbskYE2d87"
   },
   "source": [
    "---\n",
    "Problem 2\n",
    "---------\n",
    "\n",
    "Let's verify that the data still looks good. Displaying a sample of the labels and images from the ndarray. Hint: you can use matplotlib.pyplot.\n",
    "\n",
    "---"
   ]
  },
  {
   "cell_type": "code",
   "execution_count": 34,
   "metadata": {
    "collapsed": false
   },
   "outputs": [
    {
     "data": {
      "image/png": "[encoded data removed]",
      "text/plain": [
       "<matplotlib.figure.Figure at 0x1127206d8>"
      ]
     },
     "metadata": {},
     "output_type": "display_data"
    },
    {
     "data": {
      "image/png": "[encoded data removed]",
      "text/plain": [
       "<matplotlib.figure.Figure at 0x10ba15a90>"
      ]
     },
     "metadata": {},
     "output_type": "display_data"
    },
    {
     "data": {
      "image/png": "[encoded data removed]",
      "text/plain": [
       "<matplotlib.figure.Figure at 0x10a04ac50>"
      ]
     },
     "metadata": {},
     "output_type": "display_data"
    },
    {
     "data": {
      "image/png": "[encoded data removed]",
      "text/plain": [
       "<matplotlib.figure.Figure at 0x11256aac8>"
      ]
     },
     "metadata": {},
     "output_type": "display_data"
    },
    {
     "data": {
      "image/png": "[encoded data removed]",
      "text/plain": [
       "<matplotlib.figure.Figure at 0x111c03978>"
      ]
     },
     "metadata": {},
     "output_type": "display_data"
    },
    {
     "data": {
      "image/png": "[encoded data removed]",
      "text/plain": [
       "<matplotlib.figure.Figure at 0x111fd0908>"
      ]
     },
     "metadata": {},
     "output_type": "display_data"
    },
    {
     "data": {
      "image/png": "[encoded data removed]",
      "text/plain": [
       "<matplotlib.figure.Figure at 0x112481f28>"
      ]
     },
     "metadata": {},
     "output_type": "display_data"
    },
    {
     "data": {
      "image/png": "[encoded data removed]",
      "text/plain": [
       "<matplotlib.figure.Figure at 0x1127b8898>"
      ]
     },
     "metadata": {},
     "output_type": "display_data"
    },
    {
     "data": {
      "image/png": "[encoded data removed]",
      "text/plain": [
       "<matplotlib.figure.Figure at 0x112497860>"
      ]
     },
     "metadata": {},
     "output_type": "display_data"
    },
    {
     "data": {
      "image/png": "[encoded data removed]",
      "text/plain": [
       "<matplotlib.figure.Figure at 0x10a032940>"
      ]
     },
     "metadata": {},
     "output_type": "display_data"
    }
   ],
   "source": [
    "for tmp_name in test_datasets:\n",
    "    with open(tmp_name, 'rb') as tmp_file:\n",
    "        tmp = pickle.load(tmp_file)\n",
    "        plt.figure(figsize=(1,1))\n",
    "        plt.imshow(tmp[0], 'gray')\n",
    "        plt.show()"
   ]
  },
  {
   "cell_type": "markdown",
   "metadata": {
    "colab_type": "text",
    "id": "cYznx5jUwzoO"
   },
   "source": [
    "---\n",
    "Problem 3\n",
    "---------\n",
    "Another check: we expect the data to be balanced across classes. Verify that.\n",
    "\n",
    "---"
   ]
  },
  {
   "cell_type": "code",
   "execution_count": 36,
   "metadata": {
    "collapsed": false
   },
   "outputs": [
    {
     "name": "stdout",
     "output_type": "stream",
     "text": [
      "./notMNIST_small/A.pickle  -  1872\n",
      "./notMNIST_small/B.pickle  -  1873\n",
      "./notMNIST_small/C.pickle  -  1873\n",
      "./notMNIST_small/D.pickle  -  1873\n",
      "./notMNIST_small/E.pickle  -  1873\n",
      "./notMNIST_small/F.pickle  -  1872\n",
      "./notMNIST_small/G.pickle  -  1872\n",
      "./notMNIST_small/H.pickle  -  1872\n",
      "./notMNIST_small/I.pickle  -  1872\n",
      "./notMNIST_small/J.pickle  -  1872\n"
     ]
    }
   ],
   "source": [
    "for tmp_name in test_datasets:\n",
    "    with open(tmp_name, 'rb') as tmp_file:\n",
    "        tmp = pickle.load(tmp_file)\n",
    "        print(tmp_name, ' - ', len(tmp))"
   ]
  },
  {
   "cell_type": "markdown",
   "metadata": {
    "colab_type": "text",
    "id": "LA7M7K22ynCt"
   },
   "source": [
    "Merge and prune the training data as needed. Depending on your computer setup, you might not be able to fit it all in memory, and you can tune `train_size` as needed. The labels will be stored into a separate array of integers 0 through 9.\n",
    "\n",
    "Also create a validation dataset for hyperparameter tuning."
   ]
  },
  {
   "cell_type": "code",
   "execution_count": 37,
   "metadata": {
    "cellView": "both",
    "colab": {
     "autoexec": {
      "startup": false,
      "wait_interval": 0
     },
     "output_extras": [
      {
       "item_id": 1
      }
     ]
    },
    "colab_type": "code",
    "collapsed": false,
    "executionInfo": {
     "elapsed": 411281,
     "status": "ok",
     "timestamp": 1444485897869,
     "user": {
      "color": "#1FA15D",
      "displayName": "Vincent Vanhoucke",
      "isAnonymous": false,
      "isMe": true,
      "permissionId": "05076109866853157986",
      "photoUrl": "//lh6.googleusercontent.com/-cCJa7dTDcgQ/AAAAAAAAAAI/AAAAAAAACgw/r2EZ_8oYer4/s50-c-k-no/photo.jpg",
      "sessionId": "2a0a5e044bb03b66",
      "userId": "102167687554210253930"
     },
     "user_tz": 420
    },
    "id": "s3mWgZLpyuzq",
    "outputId": "8af66da6-902d-4719-bedc-7c9fb7ae7948"
   },
   "outputs": [
    {
     "name": "stdout",
     "output_type": "stream",
     "text": [
      "Training: (200000, 28, 28) (200000,)\n",
      "Validation: (10000, 28, 28) (10000,)\n",
      "Testing: (10000, 28, 28) (10000,)\n"
     ]
    }
   ],
   "source": [
    "def make_arrays(nb_rows, img_size):\n",
    "  if nb_rows:\n",
    "    dataset = np.ndarray((nb_rows, img_size, img_size), dtype=np.float32)\n",
    "    labels = np.ndarray(nb_rows, dtype=np.int32)\n",
    "  else:\n",
    "    dataset, labels = None, None\n",
    "  return dataset, labels\n",
    "\n",
    "def merge_datasets(pickle_files, train_size, valid_size=0):\n",
    "  num_classes = len(pickle_files)\n",
    "  valid_dataset, valid_labels = make_arrays(valid_size, image_size)\n",
    "  train_dataset, train_labels = make_arrays(train_size, image_size)\n",
    "  vsize_per_class = valid_size // num_classes\n",
    "  tsize_per_class = train_size // num_classes\n",
    "    \n",
    "  start_v, start_t = 0, 0\n",
    "  end_v, end_t = vsize_per_class, tsize_per_class\n",
    "  end_l = vsize_per_class+tsize_per_class\n",
    "  for label, pickle_file in enumerate(pickle_files):       \n",
    "    try:\n",
    "      with open(pickle_file, 'rb') as f:\n",
    "        letter_set = pickle.load(f)\n",
    "        # let's shuffle the letters to have random validation and training set\n",
    "        np.random.shuffle(letter_set)\n",
    "        if valid_dataset is not None:\n",
    "          valid_letter = letter_set[:vsize_per_class, :, :]\n",
    "          valid_dataset[start_v:end_v, :, :] = valid_letter\n",
    "          valid_labels[start_v:end_v] = label\n",
    "          start_v += vsize_per_class\n",
    "          end_v += vsize_per_class\n",
    "                    \n",
    "        train_letter = letter_set[vsize_per_class:end_l, :, :]\n",
    "        train_dataset[start_t:end_t, :, :] = train_letter\n",
    "        train_labels[start_t:end_t] = label\n",
    "        start_t += tsize_per_class\n",
    "        end_t += tsize_per_class\n",
    "    except Exception as e:\n",
    "      print('Unable to process data from', pickle_file, ':', e)\n",
    "      raise\n",
    "    \n",
    "  return valid_dataset, valid_labels, train_dataset, train_labels\n",
    "            \n",
    "            \n",
    "train_size = 200000\n",
    "valid_size = 10000\n",
    "test_size = 10000\n",
    "\n",
    "valid_dataset, valid_labels, train_dataset, train_labels = merge_datasets(\n",
    "  train_datasets, train_size, valid_size)\n",
    "_, _, test_dataset, test_labels = merge_datasets(test_datasets, test_size)\n",
    "\n",
    "print('Training:', train_dataset.shape, train_labels.shape)\n",
    "print('Validation:', valid_dataset.shape, valid_labels.shape)\n",
    "print('Testing:', test_dataset.shape, test_labels.shape)"
   ]
  },
  {
   "cell_type": "markdown",
   "metadata": {
    "colab_type": "text",
    "id": "GPTCnjIcyuKN"
   },
   "source": [
    "Next, we'll randomize the data. It's important to have the labels well shuffled for the training and test distributions to match."
   ]
  },
  {
   "cell_type": "code",
   "execution_count": 38,
   "metadata": {
    "cellView": "both",
    "colab": {
     "autoexec": {
      "startup": false,
      "wait_interval": 0
     }
    },
    "colab_type": "code",
    "collapsed": true,
    "id": "6WZ2l2tN2zOL"
   },
   "outputs": [],
   "source": [
    "def randomize(dataset, labels):\n",
    "  permutation = np.random.permutation(labels.shape[0])\n",
    "  shuffled_dataset = dataset[permutation,:,:]\n",
    "  shuffled_labels = labels[permutation]\n",
    "  return shuffled_dataset, shuffled_labels\n",
    "\n",
    "train_dataset, train_labels = randomize(train_dataset, train_labels)\n",
    "test_dataset, test_labels = randomize(test_dataset, test_labels)\n",
    "valid_dataset, valid_labels = randomize(valid_dataset, valid_labels)"
   ]
  },
  {
   "cell_type": "markdown",
   "metadata": {
    "colab_type": "text",
    "id": "puDUTe6t6USl"
   },
   "source": [
    "---\n",
    "Problem 4\n",
    "---------\n",
    "Convince yourself that the data is still good after shuffling!\n",
    "\n",
    "---"
   ]
  },
  {
   "cell_type": "code",
   "execution_count": 46,
   "metadata": {
    "collapsed": false
   },
   "outputs": [
    {
     "name": "stdout",
     "output_type": "stream",
     "text": [
      "(10000, 28, 28)\n"
     ]
    },
    {
     "data": {
      "image/png": "[encoded data removed]",
      "text/plain": [
       "<matplotlib.figure.Figure at 0x109ff60f0>"
      ]
     },
     "metadata": {},
     "output_type": "display_data"
    },
    {
     "name": "stdout",
     "output_type": "stream",
     "text": [
      "1\n"
     ]
    }
   ],
   "source": [
    "print(valid_dataset.shape)\n",
    "\n",
    "plt.imshow(valid_dataset[0], 'gray')\n",
    "plt.show()\n",
    "\n",
    "print(valid_labels[0])"
   ]
  },
  {
   "cell_type": "markdown",
   "metadata": {
    "colab_type": "text",
    "id": "tIQJaJuwg5Hw"
   },
   "source": [
    "Finally, let's save the data for later reuse:"
   ]
  },
  {
   "cell_type": "code",
   "execution_count": 47,
   "metadata": {
    "cellView": "both",
    "colab": {
     "autoexec": {
      "startup": false,
      "wait_interval": 0
     }
    },
    "colab_type": "code",
    "collapsed": true,
    "id": "QiR_rETzem6C"
   },
   "outputs": [],
   "source": [
    "pickle_file = os.path.join(data_root, 'notMNIST.pickle')\n",
    "\n",
    "try:\n",
    "  f = open(pickle_file, 'wb')\n",
    "  save = {\n",
    "    'train_dataset': train_dataset,\n",
    "    'train_labels': train_labels,\n",
    "    'valid_dataset': valid_dataset,\n",
    "    'valid_labels': valid_labels,\n",
    "    'test_dataset': test_dataset,\n",
    "    'test_labels': test_labels,\n",
    "    }\n",
    "  pickle.dump(save, f, pickle.HIGHEST_PROTOCOL)\n",
    "  f.close()\n",
    "except Exception as e:\n",
    "  print('Unable to save data to', pickle_file, ':', e)\n",
    "  raise"
   ]
  },
  {
   "cell_type": "code",
   "execution_count": 48,
   "metadata": {
    "cellView": "both",
    "colab": {
     "autoexec": {
      "startup": false,
      "wait_interval": 0
     },
     "output_extras": [
      {
       "item_id": 1
      }
     ]
    },
    "colab_type": "code",
    "collapsed": false,
    "executionInfo": {
     "elapsed": 413065,
     "status": "ok",
     "timestamp": 1444485899688,
     "user": {
      "color": "#1FA15D",
      "displayName": "Vincent Vanhoucke",
      "isAnonymous": false,
      "isMe": true,
      "permissionId": "05076109866853157986",
      "photoUrl": "//lh6.googleusercontent.com/-cCJa7dTDcgQ/AAAAAAAAAAI/AAAAAAAACgw/r2EZ_8oYer4/s50-c-k-no/photo.jpg",
      "sessionId": "2a0a5e044bb03b66",
      "userId": "102167687554210253930"
     },
     "user_tz": 420
    },
    "id": "hQbLjrW_iT39",
    "outputId": "b440efc6-5ee1-4cbc-d02d-93db44ebd956"
   },
   "outputs": [
    {
     "name": "stdout",
     "output_type": "stream",
     "text": [
      "Compressed pickle size: 690800512\n"
     ]
    }
   ],
   "source": [
    "statinfo = os.stat(pickle_file)\n",
    "print('Compressed pickle size:', statinfo.st_size)"
   ]
  },
  {
   "cell_type": "markdown",
   "metadata": {
    "colab_type": "text",
    "id": "gE_cRAQB33lk"
   },
   "source": [
    "---\n",
    "Problem 5\n",
    "---------\n",
    "\n",
    "By construction, this dataset might contain a lot of overlapping samples, including training data that's also contained in the validation and test set! Overlap between training and test can skew the results if you expect to use your model in an environment where there is never an overlap, but are actually ok if you expect to see training samples recur when you use it.\n",
    "Measure how much overlap there is between training, validation and test samples.\n",
    "\n",
    "Optional questions:\n",
    "- What about near duplicates between datasets? (images that are almost identical)\n",
    "- Create a sanitized validation and test set, and compare your accuracy on those in subsequent assignments.\n",
    "---"
   ]
  },
  {
   "cell_type": "code",
   "execution_count": 49,
   "metadata": {
    "collapsed": true
   },
   "outputs": [],
   "source": [
    "with open(pickle_file, 'rb') as f:\n",
    "    data = pickle.load(f)"
   ]
  },
  {
   "cell_type": "code",
   "execution_count": 67,
   "metadata": {
    "collapsed": false
   },
   "outputs": [
    {
     "name": "stdout",
     "output_type": "stream",
     "text": [
      "(108, 7589)\n",
      "(128, 100)\n",
      "(128, 223)\n",
      "(128, 356)\n",
      "(128, 382)\n",
      "(128, 542)\n",
      "(128, 607)\n",
      "(128, 694)\n",
      "(128, 784)\n",
      "(128, 843)\n",
      "(128, 983)\n",
      "(128, 1100)\n",
      "(128, 1161)\n",
      "(128, 1228)\n",
      "(128, 1298)\n",
      "(128, 1466)\n",
      "(128, 1537)\n",
      "(128, 1570)\n",
      "(128, 1814)\n",
      "(128, 1878)\n",
      "(128, 2006)\n",
      "(128, 2030)\n",
      "(128, 2120)\n",
      "(128, 2147)\n",
      "(128, 2159)\n",
      "(128, 2323)\n",
      "(128, 2350)\n",
      "(128, 2467)\n",
      "(128, 2507)\n",
      "(128, 2543)\n",
      "(128, 2591)\n",
      "(128, 2768)\n",
      "(128, 2836)\n",
      "(128, 2992)\n",
      "(128, 3478)\n",
      "(128, 3667)\n",
      "(128, 3835)\n",
      "(128, 3852)\n",
      "(128, 4053)\n",
      "(128, 4348)\n",
      "(128, 4349)\n",
      "(128, 4508)\n",
      "(128, 4611)\n",
      "(128, 4717)\n",
      "(128, 4801)\n",
      "(128, 4929)\n",
      "(128, 5054)\n",
      "(128, 5469)\n",
      "(128, 5656)\n",
      "(128, 5701)\n",
      "(128, 5812)\n",
      "(128, 5960)\n",
      "(128, 5961)\n",
      "(128, 6068)\n",
      "(128, 6088)\n",
      "(128, 6199)\n",
      "(128, 6253)\n",
      "(128, 6295)\n",
      "(128, 6471)\n",
      "(128, 6487)\n",
      "(128, 6819)\n",
      "(128, 7075)\n",
      "(128, 7095)\n",
      "(128, 7181)\n",
      "(128, 7203)\n",
      "(128, 7429)\n",
      "(128, 7463)\n",
      "(128, 7531)\n",
      "(128, 7747)\n",
      "(128, 7947)\n",
      "(128, 7968)\n",
      "(128, 8212)\n",
      "(128, 8256)\n",
      "(128, 8307)\n",
      "(128, 8468)\n",
      "(128, 8477)\n",
      "(128, 8497)\n",
      "(128, 8562)\n",
      "(128, 8632)\n",
      "(128, 8637)\n",
      "(128, 8690)\n",
      "(128, 8721)\n",
      "(128, 8726)\n",
      "(128, 8814)\n",
      "(128, 8825)\n",
      "(128, 8860)\n",
      "(128, 8951)\n",
      "(128, 8958)\n",
      "(128, 8981)\n",
      "(128, 9134)\n",
      "(128, 9260)\n",
      "(128, 9382)\n",
      "(128, 9466)\n",
      "(128, 9511)\n",
      "(128, 9741)\n",
      "(128, 9988)\n",
      "(167, 2552)\n",
      "(175, 5533)\n",
      "(235, 100)\n",
      "(235, 223)\n",
      "(235, 356)\n",
      "(235, 382)\n",
      "(235, 542)\n",
      "(235, 607)\n",
      "(235, 694)\n",
      "(235, 784)\n",
      "(235, 843)\n",
      "(235, 983)\n",
      "(235, 1100)\n",
      "(235, 1161)\n",
      "(235, 1228)\n",
      "(235, 1298)\n",
      "(235, 1466)\n",
      "(235, 1537)\n",
      "(235, 1570)\n",
      "(235, 1814)\n",
      "(235, 1878)\n",
      "(235, 2006)\n",
      "(235, 2030)\n",
      "(235, 2120)\n",
      "(235, 2147)\n",
      "(235, 2159)\n",
      "(235, 2323)\n",
      "(235, 2350)\n",
      "(235, 2467)\n",
      "(235, 2507)\n",
      "(235, 2543)\n",
      "(235, 2591)\n",
      "(235, 2768)\n",
      "(235, 2836)\n",
      "(235, 2992)\n",
      "(235, 3478)\n",
      "(235, 3667)\n",
      "(235, 3835)\n",
      "(235, 3852)\n",
      "(235, 4053)\n",
      "(235, 4348)\n",
      "(235, 4349)\n",
      "(235, 4508)\n",
      "(235, 4611)\n",
      "(235, 4717)\n",
      "(235, 4801)\n",
      "(235, 4929)\n",
      "(235, 5054)\n",
      "(235, 5469)\n",
      "(235, 5656)\n",
      "(235, 5701)\n",
      "(235, 5812)\n",
      "(235, 5960)\n",
      "(235, 5961)\n",
      "(235, 6068)\n",
      "(235, 6088)\n",
      "(235, 6199)\n",
      "(235, 6253)\n",
      "(235, 6295)\n",
      "(235, 6471)\n",
      "(235, 6487)\n",
      "(235, 6819)\n",
      "(235, 7075)\n",
      "(235, 7095)\n",
      "(235, 7181)\n",
      "(235, 7203)\n",
      "(235, 7429)\n",
      "(235, 7463)\n",
      "(235, 7531)\n",
      "(235, 7747)\n",
      "(235, 7947)\n",
      "(235, 7968)\n",
      "(235, 8212)\n",
      "(235, 8256)\n",
      "(235, 8307)\n",
      "(235, 8468)\n",
      "(235, 8477)\n",
      "(235, 8497)\n",
      "(235, 8562)\n",
      "(235, 8632)\n",
      "(235, 8637)\n",
      "(235, 8690)\n",
      "(235, 8721)\n",
      "(235, 8726)\n",
      "(235, 8814)\n",
      "(235, 8825)\n",
      "(235, 8860)\n",
      "(235, 8951)\n",
      "(235, 8958)\n",
      "(235, 8981)\n",
      "(235, 9134)\n",
      "(235, 9260)\n",
      "(235, 9382)\n",
      "(235, 9466)\n",
      "(235, 9511)\n",
      "(235, 9741)\n",
      "(235, 9988)\n",
      "(242, 100)\n",
      "(242, 223)\n",
      "(242, 356)\n",
      "(242, 382)\n",
      "(242, 542)\n",
      "(242, 607)\n",
      "(242, 694)\n",
      "(242, 784)\n",
      "(242, 843)\n",
      "(242, 983)\n",
      "(242, 1100)\n",
      "(242, 1161)\n",
      "(242, 1228)\n",
      "(242, 1298)\n",
      "(242, 1466)\n",
      "(242, 1537)\n",
      "(242, 1570)\n",
      "(242, 1814)\n",
      "(242, 1878)\n",
      "(242, 2006)\n",
      "(242, 2030)\n",
      "(242, 2120)\n",
      "(242, 2147)\n",
      "(242, 2159)\n",
      "(242, 2323)\n",
      "(242, 2350)\n",
      "(242, 2467)\n",
      "(242, 2507)\n",
      "(242, 2543)\n",
      "(242, 2591)\n",
      "(242, 2768)\n",
      "(242, 2836)\n",
      "(242, 2992)\n",
      "(242, 3478)\n",
      "(242, 3667)\n",
      "(242, 3835)\n",
      "(242, 3852)\n",
      "(242, 4053)\n",
      "(242, 4348)\n",
      "(242, 4349)\n",
      "(242, 4508)\n",
      "(242, 4611)\n",
      "(242, 4717)\n",
      "(242, 4801)\n",
      "(242, 4929)\n",
      "(242, 5054)\n",
      "(242, 5469)\n",
      "(242, 5656)\n",
      "(242, 5701)\n",
      "(242, 5812)\n",
      "(242, 5960)\n",
      "(242, 5961)\n",
      "(242, 6068)\n",
      "(242, 6088)\n",
      "(242, 6199)\n",
      "(242, 6253)\n",
      "(242, 6295)\n",
      "(242, 6471)\n",
      "(242, 6487)\n",
      "(242, 6819)\n",
      "(242, 7075)\n",
      "(242, 7095)\n",
      "(242, 7181)\n",
      "(242, 7203)\n",
      "(242, 7429)\n",
      "(242, 7463)\n",
      "(242, 7531)\n",
      "(242, 7747)\n",
      "(242, 7947)\n",
      "(242, 7968)\n",
      "(242, 8212)\n",
      "(242, 8256)\n",
      "(242, 8307)\n",
      "(242, 8468)\n",
      "(242, 8477)\n",
      "(242, 8497)\n",
      "(242, 8562)\n",
      "(242, 8632)\n",
      "(242, 8637)\n",
      "(242, 8690)\n",
      "(242, 8721)\n",
      "(242, 8726)\n",
      "(242, 8814)\n",
      "(242, 8825)\n",
      "(242, 8860)\n",
      "(242, 8951)\n",
      "(242, 8958)\n",
      "(242, 8981)\n",
      "(242, 9134)\n",
      "(242, 9260)\n",
      "(242, 9382)\n",
      "(242, 9466)\n",
      "(242, 9511)\n",
      "(242, 9741)\n",
      "(242, 9988)\n",
      "(290, 100)\n",
      "(290, 223)\n",
      "(290, 356)\n",
      "(290, 382)\n",
      "(290, 542)\n",
      "(290, 607)\n",
      "(290, 694)\n",
      "(290, 784)\n",
      "(290, 843)\n",
      "(290, 983)\n",
      "(290, 1100)\n",
      "(290, 1161)\n",
      "(290, 1228)\n",
      "(290, 1298)\n",
      "(290, 1466)\n",
      "(290, 1537)\n",
      "(290, 1570)\n",
      "(290, 1814)\n",
      "(290, 1878)\n",
      "(290, 2006)\n",
      "(290, 2030)\n",
      "(290, 2120)\n",
      "(290, 2147)\n",
      "(290, 2159)\n",
      "(290, 2323)\n",
      "(290, 2350)\n",
      "(290, 2467)\n",
      "(290, 2507)\n",
      "(290, 2543)\n",
      "(290, 2591)\n",
      "(290, 2768)\n",
      "(290, 2836)\n",
      "(290, 2992)\n",
      "(290, 3478)\n",
      "(290, 3667)\n",
      "(290, 3835)\n",
      "(290, 3852)\n",
      "(290, 4053)\n",
      "(290, 4348)\n",
      "(290, 4349)\n",
      "(290, 4508)\n",
      "(290, 4611)\n",
      "(290, 4717)\n",
      "(290, 4801)\n",
      "(290, 4929)\n",
      "(290, 5054)\n",
      "(290, 5469)\n",
      "(290, 5656)\n",
      "(290, 5701)\n",
      "(290, 5812)\n",
      "(290, 5960)\n",
      "(290, 5961)\n",
      "(290, 6068)\n",
      "(290, 6088)\n",
      "(290, 6199)\n",
      "(290, 6253)\n",
      "(290, 6295)\n",
      "(290, 6471)\n",
      "(290, 6487)\n",
      "(290, 6819)\n",
      "(290, 7075)\n",
      "(290, 7095)\n",
      "(290, 7181)\n",
      "(290, 7203)\n",
      "(290, 7429)\n",
      "(290, 7463)\n",
      "(290, 7531)\n",
      "(290, 7747)\n",
      "(290, 7947)\n",
      "(290, 7968)\n",
      "(290, 8212)\n",
      "(290, 8256)\n",
      "(290, 8307)\n",
      "(290, 8468)\n",
      "(290, 8477)\n",
      "(290, 8497)\n",
      "(290, 8562)\n",
      "(290, 8632)\n",
      "(290, 8637)\n",
      "(290, 8690)\n",
      "(290, 8721)\n",
      "(290, 8726)\n",
      "(290, 8814)\n",
      "(290, 8825)\n",
      "(290, 8860)\n",
      "(290, 8951)\n",
      "(290, 8958)\n",
      "(290, 8981)\n",
      "(290, 9134)\n",
      "(290, 9260)\n",
      "(290, 9382)\n",
      "(290, 9466)\n",
      "(290, 9511)\n",
      "(290, 9741)\n",
      "(290, 9988)\n",
      "(303, 100)\n",
      "(303, 223)\n",
      "(303, 356)\n",
      "(303, 382)\n",
      "(303, 542)\n",
      "(303, 607)\n",
      "(303, 694)\n",
      "(303, 784)\n",
      "(303, 843)\n",
      "(303, 983)\n",
      "(303, 1100)\n",
      "(303, 1161)\n",
      "(303, 1228)\n",
      "(303, 1298)\n",
      "(303, 1466)\n",
      "(303, 1537)\n",
      "(303, 1570)\n",
      "(303, 1814)\n",
      "(303, 1878)\n",
      "(303, 2006)\n",
      "(303, 2030)\n",
      "(303, 2120)\n",
      "(303, 2147)\n",
      "(303, 2159)\n",
      "(303, 2323)\n",
      "(303, 2350)\n",
      "(303, 2467)\n",
      "(303, 2507)\n",
      "(303, 2543)\n",
      "(303, 2591)\n",
      "(303, 2768)\n",
      "(303, 2836)\n",
      "(303, 2992)\n",
      "(303, 3478)\n",
      "(303, 3667)\n",
      "(303, 3835)\n",
      "(303, 3852)\n",
      "(303, 4053)\n",
      "(303, 4348)\n",
      "(303, 4349)\n",
      "(303, 4508)\n",
      "(303, 4611)\n",
      "(303, 4717)\n",
      "(303, 4801)\n",
      "(303, 4929)\n",
      "(303, 5054)\n",
      "(303, 5469)\n",
      "(303, 5656)\n",
      "(303, 5701)\n",
      "(303, 5812)\n",
      "(303, 5960)\n",
      "(303, 5961)\n",
      "(303, 6068)\n",
      "(303, 6088)\n",
      "(303, 6199)\n",
      "(303, 6253)\n",
      "(303, 6295)\n",
      "(303, 6471)\n",
      "(303, 6487)\n",
      "(303, 6819)\n",
      "(303, 7075)\n",
      "(303, 7095)\n",
      "(303, 7181)\n",
      "(303, 7203)\n",
      "(303, 7429)\n",
      "(303, 7463)\n",
      "(303, 7531)\n",
      "(303, 7747)\n",
      "(303, 7947)\n",
      "(303, 7968)\n",
      "(303, 8212)\n",
      "(303, 8256)\n",
      "(303, 8307)\n",
      "(303, 8468)\n",
      "(303, 8477)\n",
      "(303, 8497)\n",
      "(303, 8562)\n",
      "(303, 8632)\n",
      "(303, 8637)\n",
      "(303, 8690)\n",
      "(303, 8721)\n",
      "(303, 8726)\n",
      "(303, 8814)\n",
      "(303, 8825)\n",
      "(303, 8860)\n",
      "(303, 8951)\n",
      "(303, 8958)\n",
      "(303, 8981)\n",
      "(303, 9134)\n",
      "(303, 9260)\n",
      "(303, 9382)\n",
      "(303, 9466)\n",
      "(303, 9511)\n",
      "(303, 9741)\n",
      "(303, 9988)\n",
      "(379, 9085)\n",
      "(417, 199)\n",
      "(490, 100)\n",
      "(490, 223)\n",
      "(490, 356)\n",
      "(490, 382)\n",
      "(490, 542)\n",
      "(490, 607)\n",
      "(490, 694)\n",
      "(490, 784)\n",
      "(490, 843)\n",
      "(490, 983)\n",
      "(490, 1100)\n",
      "(490, 1161)\n",
      "(490, 1228)\n",
      "(490, 1298)\n",
      "(490, 1466)\n",
      "(490, 1537)\n",
      "(490, 1570)\n",
      "(490, 1814)\n",
      "(490, 1878)\n",
      "(490, 2006)\n",
      "(490, 2030)\n",
      "(490, 2120)\n",
      "(490, 2147)\n",
      "(490, 2159)\n",
      "(490, 2323)\n",
      "(490, 2350)\n",
      "(490, 2467)\n",
      "(490, 2507)\n",
      "(490, 2543)\n",
      "(490, 2591)\n",
      "(490, 2768)\n",
      "(490, 2836)\n",
      "(490, 2992)\n",
      "(490, 3478)\n",
      "(490, 3667)\n",
      "(490, 3835)\n",
      "(490, 3852)\n",
      "(490, 4053)\n",
      "(490, 4348)\n",
      "(490, 4349)\n",
      "(490, 4508)\n",
      "(490, 4611)\n",
      "(490, 4717)\n",
      "(490, 4801)\n",
      "(490, 4929)\n",
      "(490, 5054)\n",
      "(490, 5469)\n",
      "(490, 5656)\n",
      "(490, 5701)\n",
      "(490, 5812)\n",
      "(490, 5960)\n",
      "(490, 5961)\n",
      "(490, 6068)\n",
      "(490, 6088)\n",
      "(490, 6199)\n",
      "(490, 6253)\n",
      "(490, 6295)\n",
      "(490, 6471)\n",
      "(490, 6487)\n",
      "(490, 6819)\n",
      "(490, 7075)\n",
      "(490, 7095)\n",
      "(490, 7181)\n",
      "(490, 7203)\n",
      "(490, 7429)\n",
      "(490, 7463)\n",
      "(490, 7531)\n",
      "(490, 7747)\n",
      "(490, 7947)\n",
      "(490, 7968)\n",
      "(490, 8212)\n",
      "(490, 8256)\n",
      "(490, 8307)\n",
      "(490, 8468)\n",
      "(490, 8477)\n",
      "(490, 8497)\n",
      "(490, 8562)\n",
      "(490, 8632)\n",
      "(490, 8637)\n",
      "(490, 8690)\n",
      "(490, 8721)\n",
      "(490, 8726)\n",
      "(490, 8814)\n",
      "(490, 8825)\n",
      "(490, 8860)\n",
      "(490, 8951)\n",
      "(490, 8958)\n",
      "(490, 8981)\n",
      "(490, 9134)\n",
      "(490, 9260)\n",
      "(490, 9382)\n",
      "(490, 9466)\n",
      "(490, 9511)\n",
      "(490, 9741)\n",
      "(490, 9988)\n",
      "(522, 100)\n",
      "(522, 223)\n",
      "(522, 356)\n",
      "(522, 382)\n",
      "(522, 542)\n",
      "(522, 607)\n",
      "(522, 694)\n",
      "(522, 784)\n",
      "(522, 843)\n",
      "(522, 983)\n",
      "(522, 1100)\n",
      "(522, 1161)\n",
      "(522, 1228)\n",
      "(522, 1298)\n",
      "(522, 1466)\n",
      "(522, 1537)\n",
      "(522, 1570)\n",
      "(522, 1814)\n",
      "(522, 1878)\n",
      "(522, 2006)\n",
      "(522, 2030)\n",
      "(522, 2120)\n",
      "(522, 2147)\n",
      "(522, 2159)\n",
      "(522, 2323)\n",
      "(522, 2350)\n",
      "(522, 2467)\n",
      "(522, 2507)\n",
      "(522, 2543)\n",
      "(522, 2591)\n",
      "(522, 2768)\n",
      "(522, 2836)\n",
      "(522, 2992)\n",
      "(522, 3478)\n",
      "(522, 3667)\n",
      "(522, 3835)\n",
      "(522, 3852)\n",
      "(522, 4053)\n",
      "(522, 4348)\n",
      "(522, 4349)\n",
      "(522, 4508)\n",
      "(522, 4611)\n",
      "(522, 4717)\n",
      "(522, 4801)\n",
      "(522, 4929)\n",
      "(522, 5054)\n",
      "(522, 5469)\n",
      "(522, 5656)\n",
      "(522, 5701)\n",
      "(522, 5812)\n",
      "(522, 5960)\n",
      "(522, 5961)\n",
      "(522, 6068)\n",
      "(522, 6088)\n",
      "(522, 6199)\n",
      "(522, 6253)\n",
      "(522, 6295)\n",
      "(522, 6471)\n",
      "(522, 6487)\n",
      "(522, 6819)\n",
      "(522, 7075)\n",
      "(522, 7095)\n",
      "(522, 7181)\n",
      "(522, 7203)\n",
      "(522, 7429)\n",
      "(522, 7463)\n",
      "(522, 7531)\n",
      "(522, 7747)\n",
      "(522, 7947)\n",
      "(522, 7968)\n",
      "(522, 8212)\n",
      "(522, 8256)\n",
      "(522, 8307)\n",
      "(522, 8468)\n",
      "(522, 8477)\n",
      "(522, 8497)\n",
      "(522, 8562)\n",
      "(522, 8632)\n",
      "(522, 8637)\n",
      "(522, 8690)\n",
      "(522, 8721)\n",
      "(522, 8726)\n",
      "(522, 8814)\n",
      "(522, 8825)\n",
      "(522, 8860)\n",
      "(522, 8951)\n",
      "(522, 8958)\n",
      "(522, 8981)\n",
      "(522, 9134)\n",
      "(522, 9260)\n",
      "(522, 9382)\n",
      "(522, 9466)\n",
      "(522, 9511)\n",
      "(522, 9741)\n",
      "(522, 9988)\n",
      "(554, 5731)\n",
      "(623, 100)\n",
      "(623, 223)\n",
      "(623, 356)\n",
      "(623, 382)\n",
      "(623, 542)\n",
      "(623, 607)\n",
      "(623, 694)\n",
      "(623, 784)\n",
      "(623, 843)\n",
      "(623, 983)\n",
      "(623, 1100)\n",
      "(623, 1161)\n",
      "(623, 1228)\n",
      "(623, 1298)\n",
      "(623, 1466)\n",
      "(623, 1537)\n",
      "(623, 1570)\n",
      "(623, 1814)\n",
      "(623, 1878)\n",
      "(623, 2006)\n",
      "(623, 2030)\n",
      "(623, 2120)\n",
      "(623, 2147)\n",
      "(623, 2159)\n",
      "(623, 2323)\n",
      "(623, 2350)\n",
      "(623, 2467)\n",
      "(623, 2507)\n",
      "(623, 2543)\n",
      "(623, 2591)\n",
      "(623, 2768)\n",
      "(623, 2836)\n",
      "(623, 2992)\n",
      "(623, 3478)\n",
      "(623, 3667)\n",
      "(623, 3835)\n",
      "(623, 3852)\n",
      "(623, 4053)\n",
      "(623, 4348)\n",
      "(623, 4349)\n",
      "(623, 4508)\n",
      "(623, 4611)\n",
      "(623, 4717)\n",
      "(623, 4801)\n",
      "(623, 4929)\n",
      "(623, 5054)\n",
      "(623, 5469)\n",
      "(623, 5656)\n",
      "(623, 5701)\n",
      "(623, 5812)\n",
      "(623, 5960)\n",
      "(623, 5961)\n",
      "(623, 6068)\n",
      "(623, 6088)\n",
      "(623, 6199)\n",
      "(623, 6253)\n",
      "(623, 6295)\n",
      "(623, 6471)\n",
      "(623, 6487)\n",
      "(623, 6819)\n",
      "(623, 7075)\n",
      "(623, 7095)\n",
      "(623, 7181)\n",
      "(623, 7203)\n",
      "(623, 7429)\n",
      "(623, 7463)\n",
      "(623, 7531)\n",
      "(623, 7747)\n",
      "(623, 7947)\n",
      "(623, 7968)\n",
      "(623, 8212)\n",
      "(623, 8256)\n",
      "(623, 8307)\n",
      "(623, 8468)\n",
      "(623, 8477)\n",
      "(623, 8497)\n",
      "(623, 8562)\n",
      "(623, 8632)\n",
      "(623, 8637)\n",
      "(623, 8690)\n",
      "(623, 8721)\n",
      "(623, 8726)\n",
      "(623, 8814)\n",
      "(623, 8825)\n",
      "(623, 8860)\n",
      "(623, 8951)\n",
      "(623, 8958)\n",
      "(623, 8981)\n",
      "(623, 9134)\n",
      "(623, 9260)\n",
      "(623, 9382)\n",
      "(623, 9466)\n",
      "(623, 9511)\n",
      "(623, 9741)\n",
      "(623, 9988)\n"
     ]
    },
    {
     "ename": "KeyboardInterrupt",
     "evalue": "",
     "output_type": "error",
     "traceback": [
      "\u001b[0;31m---------------------------------------------------------------------------\u001b[0m",
      "\u001b[0;31mKeyboardInterrupt\u001b[0m                         Traceback (most recent call last)",
      "\u001b[0;32m<ipython-input-67-c909bc18a966>\u001b[0m in \u001b[0;36m<module>\u001b[0;34m()\u001b[0m\n\u001b[1;32m      1\u001b[0m \u001b[0;32mfor\u001b[0m \u001b[0mi1\u001b[0m\u001b[0;34m,\u001b[0m \u001b[0melem1\u001b[0m \u001b[0;32min\u001b[0m \u001b[0menumerate\u001b[0m\u001b[0;34m(\u001b[0m\u001b[0mdata\u001b[0m\u001b[0;34m[\u001b[0m\u001b[0;34m'train_dataset'\u001b[0m\u001b[0;34m]\u001b[0m\u001b[0;34m)\u001b[0m\u001b[0;34m:\u001b[0m\u001b[0;34m\u001b[0m\u001b[0m\n\u001b[1;32m      2\u001b[0m     \u001b[0;32mfor\u001b[0m \u001b[0mi2\u001b[0m\u001b[0;34m,\u001b[0m \u001b[0melem2\u001b[0m \u001b[0;32min\u001b[0m \u001b[0menumerate\u001b[0m\u001b[0;34m(\u001b[0m\u001b[0mdata\u001b[0m\u001b[0;34m[\u001b[0m\u001b[0;34m'valid_dataset'\u001b[0m\u001b[0;34m]\u001b[0m\u001b[0;34m)\u001b[0m\u001b[0;34m:\u001b[0m\u001b[0;34m\u001b[0m\u001b[0m\n\u001b[0;32m----> 3\u001b[0;31m         \u001b[0;32mif\u001b[0m \u001b[0mnp\u001b[0m\u001b[0;34m.\u001b[0m\u001b[0marray_equal\u001b[0m\u001b[0;34m(\u001b[0m\u001b[0melem1\u001b[0m\u001b[0;34m,\u001b[0m \u001b[0melem2\u001b[0m\u001b[0;34m)\u001b[0m\u001b[0;34m:\u001b[0m\u001b[0;34m\u001b[0m\u001b[0m\n\u001b[0m\u001b[1;32m      4\u001b[0m             \u001b[0mprint\u001b[0m\u001b[0;34m(\u001b[0m\u001b[0;34m(\u001b[0m\u001b[0mi1\u001b[0m\u001b[0;34m,\u001b[0m\u001b[0mi2\u001b[0m\u001b[0;34m)\u001b[0m\u001b[0;34m)\u001b[0m\u001b[0;34m\u001b[0m\u001b[0m\n",
      "\u001b[0;32m/usr/local/lib/python3.5/site-packages/numpy/core/numeric.py\u001b[0m in \u001b[0;36marray_equal\u001b[0;34m(a1, a2)\u001b[0m\n\u001b[1;32m   2621\u001b[0m     \u001b[0;32mif\u001b[0m \u001b[0ma1\u001b[0m\u001b[0;34m.\u001b[0m\u001b[0mshape\u001b[0m \u001b[0;34m!=\u001b[0m \u001b[0ma2\u001b[0m\u001b[0;34m.\u001b[0m\u001b[0mshape\u001b[0m\u001b[0;34m:\u001b[0m\u001b[0;34m\u001b[0m\u001b[0m\n\u001b[1;32m   2622\u001b[0m         \u001b[0;32mreturn\u001b[0m \u001b[0;32mFalse\u001b[0m\u001b[0;34m\u001b[0m\u001b[0m\n\u001b[0;32m-> 2623\u001b[0;31m     \u001b[0;32mreturn\u001b[0m \u001b[0mbool\u001b[0m\u001b[0;34m(\u001b[0m\u001b[0masarray\u001b[0m\u001b[0;34m(\u001b[0m\u001b[0ma1\u001b[0m \u001b[0;34m==\u001b[0m \u001b[0ma2\u001b[0m\u001b[0;34m)\u001b[0m\u001b[0;34m.\u001b[0m\u001b[0mall\u001b[0m\u001b[0;34m(\u001b[0m\u001b[0;34m)\u001b[0m\u001b[0;34m)\u001b[0m\u001b[0;34m\u001b[0m\u001b[0m\n\u001b[0m\u001b[1;32m   2624\u001b[0m \u001b[0;34m\u001b[0m\u001b[0m\n\u001b[1;32m   2625\u001b[0m \u001b[0;34m\u001b[0m\u001b[0m\n",
      "\u001b[0;32m/usr/local/lib/python3.5/site-packages/numpy/core/numeric.py\u001b[0m in \u001b[0;36masarray\u001b[0;34m(a, dtype, order)\u001b[0m\n\u001b[1;32m    461\u001b[0m \u001b[0;34m\u001b[0m\u001b[0m\n\u001b[1;32m    462\u001b[0m \u001b[0;34m\u001b[0m\u001b[0m\n\u001b[0;32m--> 463\u001b[0;31m \u001b[0;32mdef\u001b[0m \u001b[0masarray\u001b[0m\u001b[0;34m(\u001b[0m\u001b[0ma\u001b[0m\u001b[0;34m,\u001b[0m \u001b[0mdtype\u001b[0m\u001b[0;34m=\u001b[0m\u001b[0;32mNone\u001b[0m\u001b[0;34m,\u001b[0m \u001b[0morder\u001b[0m\u001b[0;34m=\u001b[0m\u001b[0;32mNone\u001b[0m\u001b[0;34m)\u001b[0m\u001b[0;34m:\u001b[0m\u001b[0;34m\u001b[0m\u001b[0m\n\u001b[0m\u001b[1;32m    464\u001b[0m     \"\"\"Convert the input to an array.\n\u001b[1;32m    465\u001b[0m \u001b[0;34m\u001b[0m\u001b[0m\n",
      "\u001b[0;31mKeyboardInterrupt\u001b[0m: "
     ]
    }
   ],
   "source": [
    "#\n",
    "# Too long...\n",
    "#\n",
    "# for i1, elem1 in enumerate(data['train_dataset']):\n",
    "#     for i2, elem2 in enumerate(data['valid_dataset']):\n",
    "#         if np.array_equal(elem1, elem2):\n",
    "#             print((i1,i2))"
   ]
  },
  {
   "cell_type": "code",
   "execution_count": 68,
   "metadata": {
    "collapsed": false
   },
   "outputs": [
    {
     "data": {
      "text/plain": [
       "200000"
      ]
     },
     "execution_count": 68,
     "metadata": {},
     "output_type": "execute_result"
    }
   ],
   "source": [
    "len(data['train_dataset'])"
   ]
  },
  {
   "cell_type": "markdown",
   "metadata": {
    "colab_type": "text",
    "id": "L8oww1s4JMQx"
   },
   "source": [
    "---\n",
    "Problem 6\n",
    "---------\n",
    "\n",
    "Let's get an idea of what an off-the-shelf classifier can give you on this data. It's always good to check that there is something to learn, and that it's a problem that is not so trivial that a canned solution solves it.\n",
    "\n",
    "Train a simple model on this data using 50, 100, 1000 and 5000 training samples. Hint: you can use the LogisticRegression model from sklearn.linear_model.\n",
    "\n",
    "Optional question: train an off-the-shelf model on all the data!\n",
    "\n",
    "---"
   ]
  },
  {
   "cell_type": "code",
   "execution_count": 72,
   "metadata": {
    "collapsed": false
   },
   "outputs": [],
   "source": [
    "from sklearn.metrics import accuracy_score"
   ]
  },
  {
   "cell_type": "code",
   "execution_count": 69,
   "metadata": {
    "collapsed": true
   },
   "outputs": [],
   "source": [
    "clf_lr = LogisticRegression()"
   ]
  },
  {
   "cell_type": "code",
   "execution_count": 111,
   "metadata": {
    "collapsed": false
   },
   "outputs": [
    {
     "name": "stdout",
     "output_type": "stream",
     "text": [
      "done with n=50\n",
      "done with n=100\n",
      "done with n=1000\n",
      "done with n=5000\n"
     ]
    }
   ],
   "source": [
    "n_sizes = [50, 100, 1000, 5000]\n",
    "scores = []\n",
    "for n in n_sizes:\n",
    "    X, y = data['train_dataset'][:n], data['train_labels'][:n]\n",
    "    X = list(map(lambda x: x.flatten(), X))\n",
    "    clf_lr.fit(X, y)\n",
    "    y_pred = clf_lr.predict(X)\n",
    "    scores.append(accuracy_score(y, y_pred))\n",
    "    print('done with n={}'.format(n))"
   ]
  },
  {
   "cell_type": "code",
   "execution_count": 112,
   "metadata": {
    "collapsed": false,
    "scrolled": true
   },
   "outputs": [
    {
     "data": {
      "image/png": "[encoded data removed]",
      "text/plain": [
       "<matplotlib.figure.Figure at 0x1118a5cc0>"
      ]
     },
     "metadata": {},
     "output_type": "display_data"
    }
   ],
   "source": [
    "plt.plot(n_sizes, scores)\n",
    "plt.show()"
   ]
  },
  {
   "cell_type": "code",
   "execution_count": 114,
   "metadata": {
    "collapsed": false,
    "scrolled": true
   },
   "outputs": [
    {
     "name": "stdout",
     "output_type": "stream",
     "text": [
      "done with n=50\n",
      "done with n=100\n",
      "done with n=1000\n",
      "done with n=5000\n"
     ]
    }
   ],
   "source": [
    "n_sizes = [50, 100, 1000, 5000]\n",
    "scores = []\n",
    "for n in n_sizes:\n",
    "    X_train, y_train = data['train_dataset'][:n], data['train_labels'][:n]\n",
    "    X_train = list(map(lambda x: x.flatten(), X_train))\n",
    "    clf_lr.fit(X_train, y_train)\n",
    "    \n",
    "    X_test, y_test = data['train_dataset'][:2*n], data['train_labels'][:2*n]\n",
    "    X_test = list(map(lambda x: x.flatten(), X_test))\n",
    "    y_pred = clf_lr.predict(X_test)\n",
    "    scores.append(accuracy_score(y_test, y_pred))\n",
    "    print('done with n={}'.format(n))"
   ]
  },
  {
   "cell_type": "code",
   "execution_count": 115,
   "metadata": {
    "collapsed": false
   },
   "outputs": [
    {
     "data": {
      "image/png": "[encoded data removed]",
      "text/plain": [
       "<matplotlib.figure.Figure at 0x10d815ef0>"
      ]
     },
     "metadata": {},
     "output_type": "display_data"
    }
   ],
   "source": [
    "plt.plot(n_sizes, scores)\n",
    "plt.show()"
   ]
  }
 ],
 "metadata": {
  "colab": {
   "default_view": {},
   "name": "1_notmnist.ipynb",
   "provenance": [],
   "version": "0.3.2",
   "views": {}
  },
  "kernelspec": {
   "display_name": "Python 3",
   "language": "python",
   "name": "python3"
  },
  "language_info": {
   "codemirror_mode": {
    "name": "ipython",
    "version": 3
   },
   "file_extension": ".py",
   "mimetype": "text/x-python",
   "name": "python",
   "nbconvert_exporter": "python",
   "pygments_lexer": "ipython3",
   "version": "3.5.2"
  }
 },
 "nbformat": 4,
 "nbformat_minor": 0
}
